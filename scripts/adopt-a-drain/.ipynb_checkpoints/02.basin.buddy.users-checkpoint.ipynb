{
 "cells": [
  {
   "cell_type": "markdown",
   "metadata": {},
   "source": [
    "# Create use accounts\n",
    "# Adopt Drains\n",
    "\n",
    "move user_id from Users into Basin_Users\n",
    "\n",
    "./users\n",
    "./basin_users\n"
   ]
  },
  {
   "cell_type": "code",
   "execution_count": 1,
   "metadata": {
    "collapsed": true
   },
   "outputs": [],
   "source": [
    "import os\n",
    "from pathlib import Path"
   ]
  },
  {
   "cell_type": "markdown",
   "metadata": {},
   "source": [
    "# Configure CSV folder\n"
   ]
  },
  {
   "cell_type": "code",
   "execution_count": 2,
   "metadata": {},
   "outputs": [
    {
     "name": "stdout",
     "output_type": "stream",
     "text": [
      "csv_users:  /Users/jameswilfong/Documents/Github/CitizenLabs/Raw-Data/adopt-a-drain/Users.csv\n"
     ]
    }
   ],
   "source": [
    "data_folder = str(Path.home()) + '/Documents/Github/CitizenLabs/Raw-Data/adopt-a-drain/'\n",
    "csv_users = data_folder + 'Users.csv'\n",
    "print('csv_users: ', csv_users)\n",
    "if not os.path.isfile( csv_users ):\n",
    "    raise Exception('Users CSV not found at {}'.format(csv_users))\n",
    "    "
   ]
  },
  {
   "cell_type": "code",
   "execution_count": null,
   "metadata": {
    "collapsed": true
   },
   "outputs": [],
   "source": []
  },
  {
   "cell_type": "markdown",
   "metadata": {},
   "source": [
    "# Environment Variables\n",
    "* CONNECTION\n",
    "* DBNAME\n",
    "* DBTABLE"
   ]
  },
  {
   "cell_type": "markdown",
   "metadata": {},
   "source": [
    "# Sign In"
   ]
  },
  {
   "cell_type": "code",
   "execution_count": 3,
   "metadata": {},
   "outputs": [],
   "source": [
    "import helper"
   ]
  },
  {
   "cell_type": "markdown",
   "metadata": {},
   "source": [
    "# Load CSV"
   ]
  },
  {
   "cell_type": "code",
   "execution_count": 4,
   "metadata": {},
   "outputs": [
    {
     "name": "stdout",
     "output_type": "stream",
     "text": [
      "csv_users:  /Users/jameswilfong/Documents/Github/CitizenLabs/Raw-Data/adopt-a-drain/Users.csv\n"
     ]
    }
   ],
   "source": [
    "print('csv_users: ', csv_users)\n",
    "df_source = helper.open_csv( csv_users )\n",
    "#df_source.info"
   ]
  },
  {
   "cell_type": "markdown",
   "metadata": {},
   "source": [
    "# Add Users\n",
    "\n",
    "> if user does not exist create user\n",
    "  * set password to random string\n",
    "\n",
    "> if user exists skip\n",
    "\n",
    "\n",
    "\n"
   ]
  },
  {
   "cell_type": "code",
   "execution_count": 10,
   "metadata": {},
   "outputs": [
    {
     "name": "stdout",
     "output_type": "stream",
     "text": [
      "find user by  coachabid42@gmail.com\n",
      "find user by  jalimpich@gmail.com\n",
      "find user by  kolene@gmail.com\n",
      "find user by  charamberger@gmail.com\n",
      "find user by  825kell@gmail.com\n",
      "find user by  J. Peter.Bailey@gmail.com\n",
      "find user by  baldwin.christopher8@gmail.com\n",
      "find user by  dcwrench69@yahoo.com\n",
      "find user by  fennelld@monashores.net\n",
      "find user by  Maedae13@hotmail.com\n",
      "find user by  denise.k.blair@gmail.com\n",
      "find user by  clairenbode@gmail.com\n",
      "find user by  daveboerman3450@hotmail.com\n",
      "find user by  sbowen6986@gmail.com\n",
      "find user by  george@sproutsolutions.us\n",
      "find user by  hedda.britt@gmail.com\n",
      "find user by  Stargazertechie@gmail.com\n",
      "find user by  sbuchner@grcity.us\n",
      "find user by  bun4home@comcast.net\n",
      "find user by  tburch@shrr.com\n",
      "find user by  amber.nyblad@gmail.com\n",
      "find user by  carlosgcalderon82@gmail.com\n",
      "find user by  dtcapen1@gmail.com\n",
      "find user by  Nicholas_1@comcast.net\n",
      "find user by  petenpegc@sbcglobal.net\n",
      "find user by  klchase2@gmail.com\n",
      "find user by  jake.chase@comcast.net\n",
      "find user by  christineching9@gmail.com\n",
      "find user by  angelchristman@rocketmail.com\n",
      "find user by  katiecron@gmail.com\n",
      "find user by  mcimochowicz@swangr.org\n",
      "find user by  markycleveland@gmail.com\n",
      "find user by  jpclowney@gmail.com\n",
      "find user by  trishacoleslaw@gmail.com\n",
      "find user by  mccolletto@gmail.com\n",
      "find user by  amoeba731@gmail.com\n",
      "find user by  rosedbbow@gmail.com\n",
      "find user by  jdeboer43@gmail.com\n",
      "find user by  decam1am@gmail.com\n",
      "find user by  cara.decker@gvmc.org\n",
      "find user by  robinmdeerfield@gmail.com\n",
      "find user by  krdendulk@gmail.com\n",
      "find user by  rdirheimer@gmail.com\n",
      "find user by  brian.doyle@autodie-llc.com\n",
      "find user by  jessadutton@gmail.com\n",
      "find user by  beckwielen@gmail.com\n",
      "find user by  megan.m.eding@gmail.com\n",
      "find user by  ccelder@gmail.com\n",
      "find user by  stenelsh@hotmail.com\n",
      "find user by  Emelandern@yahoo.com\n",
      "find user by  ethanbradleyemerson@gmail.com\n",
      "find user by  wickerbasket@hotmail.com\n",
      "find user by  taryn_eva@yahoo.com\n",
      "find user by  mygrcity@ewer.me.uk\n",
      "find user by  kstuthard1993@gmail.com\n",
      "find user by  wedoprint1@yahoo.com\n",
      "find user by  mfavr207mi@att.net\n",
      "find user by  fergbi@aol.com\n",
      "find user by  ggf622@sbcglobal.net\n",
      "find user by  kneidhamer@yahoo.com\n",
      "find user by  garbinij@gmail.com\n",
      "find user by  brent.geers@gmail.com\n",
      "find user by  jngerber@gmail.com\n",
      "find user by  csgezon@msn.com\n",
      "find user by  csgezon@msn.com\n",
      "find user by  hellokatrice@yahoo.com\n",
      "find user by  dakotagray13@yahoo.com\n",
      "find user by  loisgroat@gmail.com\n",
      "find user by  rwguldi@gmail.com\n",
      "find user by  allison.hartley1@gmail.com\n",
      "find user by  shahaskins@gmail.com\n",
      "find user by  mjhastings1966@gmail.com\n",
      "find user by  jameshaynes4@hotmail.com\n",
      "find user by  mary.hollinrake@kentcountymi.gov\n",
      "find user by  b_hordyk@yahoo.com\n",
      "find user by  jessieg713@gmail.com\n",
      "find user by  Lori.Hotchkin@gmail.com\n",
      "find user by  anleja78@gmail.com\n",
      "find user by  djirousek@gmail.com\n",
      "find user by  sajohnson@grcity.us\n",
      "find user by  c1j@outlook.com\n",
      "find user by  skoop59@gmail.com\n",
      "find user by  arkorson@yahoo.com\n",
      "find user by  milokraegel@gmail.com\n",
      "find user by  vlkuilema@gmail.com\n",
      "find user by  kkuzawa@grcity.us\n",
      "find user by  LaplowLM@gmail.com\n",
      "find user by  joshleo@gmail.com\n",
      "find user by  a.sweets@gmail.com\n",
      "find user by  svoix@aol.com\n",
      "find user by  kimlongworth88@gmail.com\n",
      "find user by  krzyslower@gmail.com\n",
      "find user by  vickimanninghomes@gmail.com\n",
      "find user by  tmcfad23@yahoo.com\n",
      "find user by  brianmcginness@gmail.com\n",
      "find user by  mcgreev3@gmail.com\n",
      "find user by  hawksview@yahoo.com\n",
      "find user by  demhem1@gmail.com\n",
      "find user by  shadowaslan51@att.net\n",
      "find user by  ken.miguel@gmail.com\n",
      "find user by  mitchmileski@gmail.com\n",
      "find user by  joshmueller1037@gmail.com\n",
      "find user by  lisamuelleractor@gmail.com\n",
      "find user by  rnagorsen@ci.walker.mi.us\n",
      "find user by  jbnuiver@gmail.com\n",
      "find user by  odnnll_gr@sbcglobal.net\n",
      "find user by  lauraolson89@gmail.com\n",
      "find user by  otterbeinr@gmail.com\n",
      "find user by  dpatterson@grcity.us\n",
      "find user by  karenpez@gmail.com\n",
      "find user by  pfunk_ross@yahoo.com\n",
      "find user by  mindy.pierman@gmail.com\n",
      "find user by  info@seedsofpromise.net\n",
      "find user by  rose@grcity.us\n",
      "find user by  remley.christopher@gmail.com\n",
      "find user by  gregor.reno@outlook.com\n",
      "find user by  drew.reyelts@gmail.com\n",
      "find user by  joshriedy@gmail.com\n",
      "find user by  carolrienstra@gmail.com\n",
      "find user by  riley.davidjay@gmail.com\n",
      "find user by  stuff4what@hotmail.com\n",
      "find user by  sevenrock@aol.com\n",
      "find user by  cara.decker@gvmc.org\n",
      "find user by  russoma@msn.com\n",
      "find user by  tim@haitineedsyou.com\n",
      "find user by  grandmaat1225@att.net\n",
      "find user by  jschaap3737@gmail.com\n",
      "find user by  riq180@yahoo.com\n",
      "find user by  schultz1254@gmail.com\n",
      "find user by  jonathan.seely@gmail.com\n",
      "find user by  margaret.semrau.ms@gmail.com\n",
      "find user by  lsevigny@gmail.com\n",
      "find user by  a_simons46@hotmail.com\n",
      "find user by  asimons34@gmail.com\n",
      "find user by  paul.slotsema@gmail.com\n",
      "find user by  luck.and.luv@gmail.com\n",
      "find user by  thesnoeks@gmail.com\n",
      "find user by  soltysiakpaul@gmail.com\n",
      "find user by  ericmariaspearman@yahoo.com\n",
      "find user by  michael.stevens@cornerstone.edu\n",
      "find user by  stoltm@mail.gvsu.edu\n",
      "find user by  Bandit6081@sbcglobal.net\n",
      "find user by  stenelsh@hotmail.com\n",
      "find user by  emily.theroux@gmail.com\n",
      "find user by  mlt4011@gmail.com\n",
      "find user by  joetietema@hotmail.com\n",
      "find user by  kate_tiffany@hotmail.com\n",
      "find user by  kevin.timmer@gmail.com\n",
      "find user by  stuar2ad@cmich.edu\n",
      "find user by  hmelissat@gmail.com\n",
      "find user by  vandoorne@gmail.com\n",
      "find user by  theo.vanaken@gmail.com\n",
      "find user by  kathyvance917@gmail.com\n",
      "find user by  putnamvance@gmail.com\n",
      "find user by  RossVK@gamil.com\n",
      "find user by  edangel4@gmail.com\n",
      "find user by  jbverlinde@comcast.net\n",
      "find user by  krishaags@gmail.com\n",
      "find user by  sally.wackerly@sbcglobal.net\n",
      "find user by  saigh_16@hotmail.com\n",
      "find user by  hailcsm@yahoo.com\n",
      "find user by  kingdomtrain@gmail.com\n",
      "find user by  scottyw1@att.net\n",
      "find user by  lolamissdog@gmail.com\n",
      "find user by  scottwernerdesign@gmail.com\n",
      "find user by  justinwesterhof@gmail.com\n",
      "find user by  mikewestrate@gmail.com\n",
      "find user by  jesswilcome@gmail.com\n",
      "find user by  melissawild57@yahoo.com\n",
      "find user by  lwilliams_pt@yahoo.com\n",
      "find user by  mwilliam@wmmi.net\n",
      "find user by  william.jerome.wood@gmail.com\n",
      "find user by  ihavegtalknow@gmail.com\n",
      "find user by  dwork1971@yahoo.com\n",
      "find user by  kmzoetewey@yahoo.com\n"
     ]
    }
   ],
   "source": [
    "for index, row in df_source.iterrows():\n",
    "    print('find user by ',row['E_Mail_Address'])\n",
    "    ln = row['Last_Name']\n",
    "    fn = row['First_Name']\n",
    "    em = row['E_Mail_Address']\n",
    "    pw = helper.get_temp_password()\n",
    "    print('INSERT into Users (email,first_name,last_name) values (\\'{}\\', \\'{}\\', \\'{}\\', \\'{}\\')'.format(em,fn,ln,pw)\n",
    "   \n",
    "    \n",
    "    "
   ]
  },
  {
   "cell_type": "markdown",
   "metadata": {},
   "source": [
    "# Update Drains"
   ]
  },
  {
   "cell_type": "code",
   "execution_count": null,
   "metadata": {
    "collapsed": true
   },
   "outputs": [],
   "source": []
  }
 ],
 "metadata": {
  "kernelspec": {
   "display_name": "Python [default]",
   "language": "python",
   "name": "python3"
  },
  "language_info": {
   "codemirror_mode": {
    "name": "ipython",
    "version": 3
   },
   "file_extension": ".py",
   "mimetype": "text/x-python",
   "name": "python",
   "nbconvert_exporter": "python",
   "pygments_lexer": "ipython3",
   "version": "3.6.3"
  }
 },
 "nbformat": 4,
 "nbformat_minor": 2
}
