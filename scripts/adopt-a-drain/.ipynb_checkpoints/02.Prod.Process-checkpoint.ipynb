{
 "cells": [
  {
   "cell_type": "code",
   "execution_count": 1,
   "metadata": {},
   "outputs": [
    {
     "name": "stdout",
     "output_type": "stream",
     "text": [
      "branch: docs\n",
      "\n",
      "branches:  ['*', 'docs', 'master']\n",
      "users:  ['noreply@github.com', 'wilfongjt@gmail.com']\n"
     ]
    },
    {
     "data": {
      "text/markdown": [
       "GitHub State\n",
       "============\n",
       "* Branch: docs\n",
       "\n",
       "* Branches: ['*', 'docs', 'master']\n",
       "* Contributors: ['noreply@github.com', 'wilfongjt@gmail.com']"
      ],
      "text/plain": [
       "<IPython.core.display.Markdown object>"
      ]
     },
     "execution_count": 1,
     "metadata": {},
     "output_type": "execute_result"
    }
   ],
   "source": [
    "from IPython.display import Markdown\n",
    "from lib.p3_ProcessLogger import ProcessLogger\n",
    "import github\n",
    "from datadotworld.client import _swagger\n",
    "\n",
    "cell_log = ProcessLogger() \n",
    "\n",
    "github.showState(cell_log)\n",
    "\n",
    "Markdown('''{}'''.format(cell_log.getMarkdown()))"
   ]
  },
  {
   "cell_type": "code",
   "execution_count": null,
   "metadata": {
    "collapsed": true
   },
   "outputs": [],
   "source": [
    "%env\n",
    "\n",
    "cell_log.clear()\n",
    "cell_log.collect(\"<a id='notebook-config'></a>\")\n",
    "cell_log.collect(\"## Notebook Config\")\n",
    "# ------------ environment variable magic\n",
    "\n",
    "# Install a pip packages in the current Jupyter kernel\n",
    "# ------------ Python-dotenv\n",
    "cell_log.collect(\"* python-dotenv\")\n",
    "import sys\n",
    "# !{sys.executable} -m pip install python-dotenv\n",
    "# ------------ data.world API \n",
    "cell_log.collect(\"* datadotworld\")\n",
    "# !{sys.executable} -m pip install datadotworld[pandas]\n",
    "# ------------ py-github\n",
    "# cell_log.collect(\"* ipywidgets\")\n",
    "# !{sys.executable} -m pip install ipywidgets \n",
    "# !{sys.executable} -m jupyter nbextension enable --py widgetsnbextension\n",
    "if ENV_ERROR:\n",
    "    cell_log.collect(\"# Script Failure!!\")\n",
    "    cell_log.collect(\"# !!! Missing Environment Variables !!!\")\n",
    "    cell_log.collect(\"### see [Environment Variable Setup](#env-setup)\")\n",
    "\n",
    "Markdown('''{}'''.format(cell_log.getMarkdown()))"
   ]
  }
 ],
 "metadata": {
  "kernelspec": {
   "display_name": "Python [default]",
   "language": "python",
   "name": "python3"
  },
  "language_info": {
   "codemirror_mode": {
    "name": "ipython",
    "version": 3
   },
   "file_extension": ".py",
   "mimetype": "text/x-python",
   "name": "python",
   "nbconvert_exporter": "python",
   "pygments_lexer": "ipython3",
   "version": "3.6.3"
  }
 },
 "nbformat": 4,
 "nbformat_minor": 2
}
