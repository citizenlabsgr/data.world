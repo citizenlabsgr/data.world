{
 "cells": [
  {
   "cell_type": "code",
   "execution_count": 6,
   "metadata": {},
   "outputs": [
    {
     "data": {
      "application/javascript": [
       "IPython.OutputArea.prototype._should_scroll = function(lines) {\n",
       "    return false;\n",
       "}\n"
      ],
      "text/plain": [
       "<IPython.core.display.Javascript object>"
      ]
     },
     "metadata": {},
     "output_type": "display_data"
    }
   ],
   "source": [
    "%%javascript\n",
    "IPython.OutputArea.prototype._should_scroll = function(lines) {\n",
    "    return false;\n",
    "}\n",
    "\n"
   ]
  },
  {
   "cell_type": "markdown",
   "metadata": {},
   "source": [
    "# Project: Adopt a Drain Data\n",
    " * Author: James Wilfong, wilfongjt@gmail.com"
   ]
  },
  {
   "cell_type": "markdown",
   "metadata": {},
   "source": [
    "# Goals\n",
    "* Check data.world drains for duplicates?\n",
    "* "
   ]
  },
  {
   "cell_type": "markdown",
   "metadata": {},
   "source": [
    "## Limits\n",
    " * does not update the file\n",
    " \n",
    "## Assumptions\n",
    "* Assume \n"
   ]
  },
  {
   "cell_type": "markdown",
   "metadata": {},
   "source": [
    "## Inputs\n",
    " * The current live dataset is downloaded from data.world \n",
    "\n",
    "\n",
    "## Process\n",
    "  The process is initiated by running this Jupyter Notebook.\n",
    " * load current drains dataset from data.world\n",
    " * look at field dr_asset_id for duplicates\n",
    "\n",
    "## Outputs\n",
    " * none\n",
    " \n",
    " \n",
    "## Next Steps\n",
    " "
   ]
  },
  {
   "cell_type": "code",
   "execution_count": 7,
   "metadata": {},
   "outputs": [],
   "source": [
    "# %matplotlib notebook\n",
    "import settings\n",
    "from IPython.display import display, HTML\n",
    "from IPython.display import Markdown\n",
    "from lib.p3_ProcessLogger import ProcessLogger\n",
    "\n",
    "import helper"
   ]
  },
  {
   "cell_type": "code",
   "execution_count": 8,
   "metadata": {
    "collapsed": true
   },
   "outputs": [],
   "source": [
    "\n",
    "import sys\n",
    "import time\n",
    "import numpy as np \n",
    "import pandas as pd\n",
    "import csv # read and write csv files\n",
    "from pprint import pprint\n",
    "import os\n",
    "\n",
    "import datadotworld as dw\n",
    "\n",
    "# import subprocess\n",
    "\n",
    "# convenience functions -- cleaning\n",
    "# cell_log.collect('* Import custom packages')\n",
    "#from lib.p3_CellCounts import CellCounts\n",
    "# import lib.p3_clean as clean\n",
    "#from lib.p3_configuration import get_configuration\n",
    "#import lib.p3_explore as explore\n",
    "#import lib.p3_gather as gather # gathering functions\n",
    "# import lib.p3_helper_functions as helper\n",
    "#import lib.p3_map as maps"
   ]
  },
  {
   "cell_type": "markdown",
   "metadata": {},
   "source": [
    "# IMPORTANT\n",
    "## Configuring the Data Transfer\n",
    "Configure before running \"RUN All\" in the Cell menu"
   ]
  },
  {
   "cell_type": "code",
   "execution_count": 9,
   "metadata": {},
   "outputs": [
    {
     "name": "stdout",
     "output_type": "stream",
     "text": [
      "Metadata =============\n",
      "{'copy_file_name': 'grb_drains.csv',\n",
      " 'desc': 'Storm Drains of the Grand River Basin, Michigan',\n",
      " 'gh_file_type': 'csv',\n",
      " 'output_file_name': 'grb_drains-2019-08-024.csv',\n",
      " 'table_name': 'grb_drains',\n",
      " 'title': 'GRB Storm Drains'}\n"
     ]
    }
   ],
   "source": [
    "'''\n",
    "    Input: CSV file in raw_data/ folder\n",
    "    Process: clean (conform, condence)\n",
    "    Output: is directed to the clean-data/ folder\n",
    "    \n",
    "    Name the output file using OUTPUT_FILE\n",
    "    OUTPUT_FILELOCAL_CLEAN_NAME is used to name the data.world table\n",
    "    Table names should start with letter, may contain letters, numbers, underscores\n",
    "    \n",
    "'''\n",
    "cell_log = ProcessLogger() \n",
    "cell_log.clear()\n",
    "table_name='grb_drains'\n",
    "\n",
    "metadata = {\n",
    "    'output_file_name': '{}-{}.csv'.format(table_name, helper.get_daystamp(),'csv'),\n",
    "    'copy_file_name': '{}.csv'.format(table_name),\n",
    "    'gh_file_type': 'csv',\n",
    "    'title': 'GRB Storm Drains',\n",
    "    'desc': 'Storm Drains of the Grand River Basin, Michigan',\n",
    "    'table_name': table_name\n",
    "}\n",
    "'''\n",
    "helper.exportMaintainerConfig(metadata['output_file_name'], \n",
    "                              metadata['gh_file_type'], \n",
    "                              metadata['title'], \n",
    "                              metadata['desc'], \n",
    "                              metadata['table_name'])    \n",
    "'''\n",
    "print('Metadata =============')\n",
    "pprint(metadata)\n"
   ]
  },
  {
   "cell_type": "code",
   "execution_count": 10,
   "metadata": {},
   "outputs": [],
   "source": [
    "'''\n",
    "    Assemble Names of:\n",
    "        Application,\n",
    "        Raw data file,\n",
    "        Clean data file\n",
    "'''\n",
    "\n",
    "\n",
    "'''\n",
    "    ------------- configure outliers\n",
    "'''\n",
    "\n",
    "ENV_ERROR=False\n",
    "#print(\"local_config ===========\")\n",
    "#pprint(local_config)\n",
    "#print(\"outlier_settings ===========\")\n",
    "#pprint(outlier_settings)\n",
    "#print('Local_RAW_FILE: ', LOCAL_RAW_FILE)\n",
    "#print('LOCAL_CLEAN_FILE: ',LOCAL_CLEAN_FILE )"
   ]
  },
  {
   "cell_type": "code",
   "execution_count": 11,
   "metadata": {},
   "outputs": [
    {
     "data": {
      "text/markdown": [],
      "text/plain": [
       "<IPython.core.display.Markdown object>"
      ]
     },
     "execution_count": 11,
     "metadata": {},
     "output_type": "execute_result"
    }
   ],
   "source": [
    "if ENV_ERROR:\n",
    "    cell_log.collect(\"# Script Failure!!\")\n",
    "    cell_log.collect(\"# !!! Missing Environment Variables !!!\")\n",
    "    cell_log.collect(\"### see [Environment Variable Setup](#env-setup)\")\n",
    "\n",
    "Markdown('''{}'''.format(cell_log.getMarkdown()))"
   ]
  },
  {
   "cell_type": "code",
   "execution_count": 37,
   "metadata": {},
   "outputs": [],
   "source": [
    "class Process():\n",
    "    \n",
    "    def getClassName(self):\n",
    "        return self.__class__.__name__\n",
    "    \n",
    "    def process(self):\n",
    "        raise Exception('Overload process() in {}'.format(self.getClassName())) \n",
    "        \n",
    "    def run(self):\n",
    "        self.process()\n",
    "        return self  \n",
    "    \n",
    "class Load(Process):\n",
    "    def __init__(self, import_file_name):\n",
    "        # import_file_name is  full local file name or url to source\n",
    "        self.import_file_name=import_file_name\n",
    "        self.dataframe=None\n",
    "        \n",
    "class LoadDrains(Load):\n",
    "    #def __init__(self, import_file_name):\n",
    "    #    self.import_file_name=import_file_name\n",
    "    \n",
    "    def get_app_name(self):\n",
    "        '''\n",
    "        returns application name from script path\n",
    "        '''\n",
    "        scripts_path = os.getcwd()\n",
    "        rc = ''\n",
    "        pth = scripts_path.split('/')\n",
    "        rc = pth[len(pth)-1]\n",
    "        return rc\n",
    "\n",
    "    def get_repo_folder(self):\n",
    "        '''\n",
    "        returns path to the repo folder from script path\n",
    "        '''\n",
    "        scripts_path = os.getcwd()\n",
    "        rc = ''\n",
    "        rc = scripts_path.replace('/' + self.get_app_name(), '').replace('/scripts','')\n",
    "        return rc\n",
    "    \n",
    "    def get_raw_data_folder(self):\n",
    "        '''\n",
    "        returns path to raw data from script path\n",
    "        '''\n",
    "        scripts_path = os.getcwd()\n",
    "        return self.get_repo_folder() + '/raw-data/' + self.get_app_name()\n",
    "    \n",
    "    def get_dataframe(self):\n",
    "        return self.dataframe\n",
    "    \n",
    "    def process(self):\n",
    "        '''\n",
    "        import_file_name is the full path and name of import file\n",
    "        returns the original raw data as pandas dataframe\n",
    "        '''\n",
    "        self.dataframe = pd.read_csv(self.import_file_name)\n",
    "    \n",
    "\n",
    "class LoadDataWorld(Load):\n",
    "    '''\n",
    "    creates a dataframe with a fresh copy of the data.world dataset \n",
    "    dont forget to run\n",
    "    '''\n",
    "    \n",
    "    def get_dataframe(self):\n",
    "        return self.dataframe\n",
    "    \n",
    "    \n",
    "    \n",
    "    def process(self):\n",
    "        '''\n",
    "        import_file_name is the full path and name of import file\n",
    "        returns the original raw data as pandas dataframe\n",
    "        '''\n",
    "        # download to ~/.dw/cache/{}/latest/data/grb_drains.csv\n",
    "        self.dataframe = dw.load_dataset(self.import_file_name, auto_update=True)\n",
    "        fstr = '~/.dw/cache/{}/latest/data/grb_drains.csv'.format('citizenlabs/grb-storm-drains-2019-04-03')\n",
    "        # \n",
    "        self.dataframe = pd.read_csv(fstr)\n",
    "        self.dataframe.info()\n",
    "        \n",
    "\n",
    "class UniqueList(Process):\n",
    "    def __init__(self, _list):\n",
    "        self.list = _list\n",
    "        \n",
    "    def process(self):\n",
    "        dic = {}\n",
    "        \n",
    "        for n in self.list:\n",
    "            if n not in dic:\n",
    "                dic[n]=1\n",
    "            else:\n",
    "                dic[n]+=1\n",
    "                \n",
    "        for n in dic:\n",
    "            if dic[n] > 1:\n",
    "                print(n, dic[n])\n",
    "    \n",
    "    "
   ]
  },
  {
   "cell_type": "markdown",
   "metadata": {},
   "source": [
    "## Wrangling Script"
   ]
  },
  {
   "cell_type": "code",
   "execution_count": 38,
   "metadata": {},
   "outputs": [
    {
     "name": "stdout",
     "output_type": "stream",
     "text": [
      "<class 'pandas.core.frame.DataFrame'>\n",
      "RangeIndex: 45527 entries, 0 to 45526\n",
      "Data columns (total 9 columns):\n",
      "dr_asset_id        45527 non-null object\n",
      "dr_jurisdiction    45527 non-null object\n",
      "dr_lat             45527 non-null float64\n",
      "dr_lon             45527 non-null float64\n",
      "dr_owner           45527 non-null object\n",
      "dr_subtype         45527 non-null float64\n",
      "dr_subwatershed    45405 non-null object\n",
      "dr_type            45527 non-null object\n",
      "dr_location        45527 non-null object\n",
      "dtypes: float64(3), object(6)\n",
      "memory usage: 3.1+ MB\n",
      "GRANDV_40159311 2\n",
      "GRANDV_40159299 2\n"
     ]
    }
   ],
   "source": [
    "# NEW CELL\n",
    "# testing \n",
    "# current dataset from dataworld\n",
    "dw_file = 'citizenlabs/grb-storm-drains-2019-04-03'\n",
    "in_f = '~/.dw/cache/citizenlabs/grb-storm-drains-2019-04-03/latest/data/grb_drains.csv'\n",
    "cell_log.clear()\n",
    "if ENV_ERROR:\n",
    "    cell_log.collect(\"# Script Failure!!\")\n",
    "    cell_log.collect(\"# !!! Missing Environment Variables !!!\")\n",
    "    cell_log.collect(\"### see [Environment Variable Setup](#env-setup)\")\n",
    "else:\n",
    "\n",
    "\n",
    "    #* load data\n",
    "    ##################\n",
    "    # LOAD\n",
    "    ######\n",
    "    df_source = LoadDataWorld(dw_file).run().get_dataframe()\n",
    "    \n",
    "    UniqueList(df_source['dr_asset_id']).run()\n",
    "    ##################\n",
    "    # check dups\n",
    "    ######\n",
    "    #df_source.info()\n",
    "    #df_source.head()\n",
    "    #f_source.shape()\n",
    "    #df_source.size()\n",
    "\n",
    "\n",
    "#Markdown('''{}'''.format(cell_log.getMarkdown()))"
   ]
  },
  {
   "cell_type": "markdown",
   "metadata": {
    "collapsed": true
   },
   "source": [
    "# Appendix - Data.World Names"
   ]
  },
  {
   "cell_type": "code",
   "execution_count": null,
   "metadata": {
    "collapsed": true
   },
   "outputs": [],
   "source": []
  },
  {
   "cell_type": "code",
   "execution_count": null,
   "metadata": {
    "collapsed": true
   },
   "outputs": [],
   "source": []
  }
 ],
 "metadata": {
  "kernelspec": {
   "display_name": "Python [default]",
   "language": "python",
   "name": "python3"
  },
  "language_info": {
   "codemirror_mode": {
    "name": "ipython",
    "version": 3
   },
   "file_extension": ".py",
   "mimetype": "text/x-python",
   "name": "python",
   "nbconvert_exporter": "python",
   "pygments_lexer": "ipython3",
   "version": "3.6.8"
  }
 },
 "nbformat": 4,
 "nbformat_minor": 2
}
