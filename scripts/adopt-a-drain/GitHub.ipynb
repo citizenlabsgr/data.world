{
 "cells": [
  {
   "cell_type": "code",
   "execution_count": 1,
   "metadata": {},
   "outputs": [
    {
     "name": "stdout",
     "output_type": "stream",
     "text": [
      "branch: docs\n",
      "\n",
      "branches:  ['*', 'docs', 'master']\n",
      "users:  ['noreply@github.com', 'wilfongjt@gmail.com']\n"
     ]
    },
    {
     "data": {
      "text/markdown": [
       "GitHub State\n",
       "============\n",
       "* Branch: docs\n",
       "\n",
       "* Branches: ['*', 'docs', 'master']\n",
       "* Contributors: ['noreply@github.com', 'wilfongjt@gmail.com']"
      ],
      "text/plain": [
       "<IPython.core.display.Markdown object>"
      ]
     },
     "execution_count": 1,
     "metadata": {},
     "output_type": "execute_result"
    }
   ],
   "source": [
    "from IPython.display import Markdown\n",
    "from lib.p3_ProcessLogger import ProcessLogger\n",
    "import github\n",
    "cell_log = ProcessLogger() \n",
    "\n",
    "github.showState(cell_log)\n",
    "\n",
    "Markdown('''{}'''.format(cell_log.getMarkdown()))"
   ]
  },
  {
   "cell_type": "code",
   "execution_count": null,
   "metadata": {
    "collapsed": true
   },
   "outputs": [],
   "source": []
  }
 ],
 "metadata": {
  "kernelspec": {
   "display_name": "Python [default]",
   "language": "python",
   "name": "python3"
  },
  "language_info": {
   "codemirror_mode": {
    "name": "ipython",
    "version": 3
   },
   "file_extension": ".py",
   "mimetype": "text/x-python",
   "name": "python",
   "nbconvert_exporter": "python",
   "pygments_lexer": "ipython3",
   "version": "3.6.3"
  }
 },
 "nbformat": 4,
 "nbformat_minor": 2
}
