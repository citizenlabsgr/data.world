{
 "cells": [
  {
   "cell_type": "markdown",
   "metadata": {},
   "source": [
    "# Moving data to Data.World\n",
    "Three things:\n",
    "* Create a .env file to hold environment variables (api tokens)\n",
    "* Merge pull request before running this notebook \n",
    "* Successfully execute this notebook\n",
    "\n",
    "If interested:\n",
    "* The developer created the \"maintainer-config.json\" file during testing.\n",
    "* Maintainer-config cuts down on the maintainer configuration tasks.\n",
    "* Maintainer-config describes the basics of the github to data.world transfer.  \n",
    "* Maintainer-config gets fouled, let a developer know and it will get replaced.\n",
    "* CSV data is pulled from the 'master' branch of the repo\n",
    "* The Developer has to submit a pull request to the Maintainer\n",
    "* The Maintainer has to merge the pull request before running this notebook \n"
   ]
  },
  {
   "cell_type": "markdown",
   "metadata": {},
   "source": [
    "## Environment Variables\n",
    "Create a .env file in the sciprts file \n",
    "### Maintainer Environment Variables\n",
    "Use for production data updates.\n",
    "* Your data.world read/write token works only if you are a member of data.world/citizenlabs with Manage privilages.\n",
    "\n",
    "```\n",
    "cd data.world/scripts/adopt-a-drain/maintainer\n",
    "echo GH_OWNER=citizenlabsgr >> .env\n",
    "echo DW_OWNER=citizenlabs >> .env\n",
    "echo DW_AUTH_TOKEN=your-personal-data-world-read-write-token >> .env\n",
    "```\n",
    "\n",
    "\n",
    "### Developer Environment Variables\n",
    "Use for script development and testing\n",
    "* Use your GitHub account by changing GH_OWNER to your-github-user-name\n",
    "* Use your Data.World account by changing DW_OWNER to your-data.world-owner-name\n",
    "\n",
    "```\n",
    "cd data.world/scripts/adopt-a-drain/maintainer\n",
    "echo GH_OWNER=your-personal-github-user-name >> .env\n",
    "echo DW_OWNER=your-personal-data-world-owner-id >> .env\n",
    "echo DW_AUTH_TOKEN=your-personal-data-world-read-write-token >> .env\n",
    "```\n"
   ]
  },
  {
   "cell_type": "code",
   "execution_count": 4,
   "metadata": {
    "collapsed": true
   },
   "outputs": [],
   "source": [
    "import os\n",
    "from IPython.display import Markdown\n",
    "import json\n",
    "from pprint import pprint\n",
    "# from lib.p3_ProcessLogger import ProcessLogger\n",
    "from lib.p3_ProcessLogger import ProcessLogger"
   ]
  },
  {
   "cell_type": "code",
   "execution_count": 5,
   "metadata": {
    "collapsed": true
   },
   "outputs": [],
   "source": [
    "# intiate some objects\n",
    "cell_log = ProcessLogger()"
   ]
  },
  {
   "cell_type": "code",
   "execution_count": 6,
   "metadata": {},
   "outputs": [
    {
     "name": "stdout",
     "output_type": "stream",
     "text": [
      "Requirement already satisfied: python-dotenv in /Users/jameswilfong/anaconda/lib/python3.6/site-packages\n",
      "\u001b[33mYou are using pip version 9.0.1, however version 19.2.2 is available.\n",
      "You should consider upgrading via the 'pip install --upgrade pip' command.\u001b[0m\n",
      "Requirement already satisfied: datadotworld[pandas] in /Users/jameswilfong/anaconda/lib/python3.6/site-packages\n",
      "Requirement already satisfied: jsontableschema<1.0a,>=0.10.0 in /Users/jameswilfong/anaconda/lib/python3.6/site-packages (from datadotworld[pandas])\n",
      "Requirement already satisfied: certifi>=2017.04.17 in /Users/jameswilfong/anaconda/lib/python3.6/site-packages (from datadotworld[pandas])\n",
      "Requirement already satisfied: click<7.0a,>=6.0 in /Users/jameswilfong/anaconda/lib/python3.6/site-packages (from datadotworld[pandas])\n",
      "Requirement already satisfied: requests<3.0a,>=2.0.0 in /Users/jameswilfong/anaconda/lib/python3.6/site-packages (from datadotworld[pandas])\n",
      "Requirement already satisfied: tabulator<=1.4.1 in /Users/jameswilfong/anaconda/lib/python3.6/site-packages (from datadotworld[pandas])\n",
      "Requirement already satisfied: datapackage<1.0a,>=0.8.8 in /Users/jameswilfong/anaconda/lib/python3.6/site-packages (from datadotworld[pandas])\n",
      "Requirement already satisfied: six<2.0a,>=1.5.0 in /Users/jameswilfong/anaconda/lib/python3.6/site-packages (from datadotworld[pandas])\n",
      "Requirement already satisfied: flake8<3.4.1a,>=2.6.0 in /Users/jameswilfong/anaconda/lib/python3.6/site-packages (from datadotworld[pandas])\n",
      "Requirement already satisfied: configparser<4.0a,>=3.5.0 in /Users/jameswilfong/anaconda/lib/python3.6/site-packages (from datadotworld[pandas])\n",
      "Requirement already satisfied: python-dateutil<3.0a,>=2.6.0 in /Users/jameswilfong/anaconda/lib/python3.6/site-packages (from datadotworld[pandas])\n",
      "Requirement already satisfied: urllib3<2.0a,>=1.15 in /Users/jameswilfong/anaconda/lib/python3.6/site-packages (from datadotworld[pandas])\n",
      "Requirement already satisfied: pandas<1.0a; extra == \"pandas\" in /Users/jameswilfong/anaconda/lib/python3.6/site-packages (from datadotworld[pandas])\n",
      "Requirement already satisfied: isodate<1.0,>=0.5.4 in /Users/jameswilfong/anaconda/lib/python3.6/site-packages (from jsontableschema<1.0a,>=0.10.0->datadotworld[pandas])\n",
      "Requirement already satisfied: jsonschema<3.0,>=2.5 in /Users/jameswilfong/anaconda/lib/python3.6/site-packages (from jsontableschema<1.0a,>=0.10.0->datadotworld[pandas])\n",
      "Requirement already satisfied: future<1.0,>=0.15 in /Users/jameswilfong/anaconda/lib/python3.6/site-packages (from jsontableschema<1.0a,>=0.10.0->datadotworld[pandas])\n",
      "Requirement already satisfied: unicodecsv<1.0,>=0.14 in /Users/jameswilfong/anaconda/lib/python3.6/site-packages (from jsontableschema<1.0a,>=0.10.0->datadotworld[pandas])\n",
      "Requirement already satisfied: rfc3986<1.0,>=0.4 in /Users/jameswilfong/anaconda/lib/python3.6/site-packages (from jsontableschema<1.0a,>=0.10.0->datadotworld[pandas])\n",
      "Requirement already satisfied: chardet<3.1.0,>=3.0.2 in /Users/jameswilfong/anaconda/lib/python3.6/site-packages (from requests<3.0a,>=2.0.0->datadotworld[pandas])\n",
      "Requirement already satisfied: idna<2.7,>=2.5 in /Users/jameswilfong/anaconda/lib/python3.6/site-packages (from requests<3.0a,>=2.0.0->datadotworld[pandas])\n",
      "Requirement already satisfied: cchardet<2.0,>=1.0 in /Users/jameswilfong/anaconda/lib/python3.6/site-packages (from tabulator<=1.4.1->datadotworld[pandas])\n",
      "Requirement already satisfied: xlrd<2.0,>=1.0 in /Users/jameswilfong/anaconda/lib/python3.6/site-packages (from tabulator<=1.4.1->datadotworld[pandas])\n",
      "Requirement already satisfied: openpyxl<3.0,>=2.4 in /Users/jameswilfong/anaconda/lib/python3.6/site-packages (from tabulator<=1.4.1->datadotworld[pandas])\n",
      "Requirement already satisfied: sqlalchemy<2.0,>=1.1 in /Users/jameswilfong/anaconda/lib/python3.6/site-packages (from tabulator<=1.4.1->datadotworld[pandas])\n",
      "Requirement already satisfied: linear-tsv<2.0,>=1.0 in /Users/jameswilfong/anaconda/lib/python3.6/site-packages (from tabulator<=1.4.1->datadotworld[pandas])\n",
      "Requirement already satisfied: ijson<3.0,>=2.0 in /Users/jameswilfong/anaconda/lib/python3.6/site-packages (from tabulator<=1.4.1->datadotworld[pandas])\n",
      "Requirement already satisfied: jsonlines<2.0,>=1.1 in /Users/jameswilfong/anaconda/lib/python3.6/site-packages (from tabulator<=1.4.1->datadotworld[pandas])\n",
      "Requirement already satisfied: pycodestyle<2.4.0,>=2.0.0 in /Users/jameswilfong/anaconda/lib/python3.6/site-packages (from flake8<3.4.1a,>=2.6.0->datadotworld[pandas])\n",
      "Requirement already satisfied: pyflakes<1.6.0,>=1.5.0 in /Users/jameswilfong/anaconda/lib/python3.6/site-packages (from flake8<3.4.1a,>=2.6.0->datadotworld[pandas])\n",
      "Requirement already satisfied: mccabe<0.7.0,>=0.6.0 in /Users/jameswilfong/anaconda/lib/python3.6/site-packages (from flake8<3.4.1a,>=2.6.0->datadotworld[pandas])\n",
      "Requirement already satisfied: pytz>=2011k in /Users/jameswilfong/anaconda/lib/python3.6/site-packages (from pandas<1.0a; extra == \"pandas\"->datadotworld[pandas])\n",
      "Requirement already satisfied: numpy>=1.7.0 in /Users/jameswilfong/anaconda/lib/python3.6/site-packages (from pandas<1.0a; extra == \"pandas\"->datadotworld[pandas])\n",
      "Requirement already satisfied: jdcal in /Users/jameswilfong/anaconda/lib/python3.6/site-packages (from openpyxl<3.0,>=2.4->tabulator<=1.4.1->datadotworld[pandas])\n",
      "Requirement already satisfied: et_xmlfile in /Users/jameswilfong/anaconda/lib/python3.6/site-packages (from openpyxl<3.0,>=2.4->tabulator<=1.4.1->datadotworld[pandas])\n",
      "\u001b[33mYou are using pip version 9.0.1, however version 19.2.2 is available.\n",
      "You should consider upgrading via the 'pip install --upgrade pip' command.\u001b[0m\n"
     ]
    },
    {
     "data": {
      "text/markdown": [
       "<a id='notebook-config'></a>\n",
       "## Notebook Config\n",
       "* python-dotenv\n",
       "* datadotworld"
      ],
      "text/plain": [
       "<IPython.core.display.Markdown object>"
      ]
     },
     "execution_count": 6,
     "metadata": {},
     "output_type": "execute_result"
    }
   ],
   "source": [
    "\n",
    "%env\n",
    "ENV_ERROR = False\n",
    "cell_log.clear()\n",
    "cell_log.collect(\"<a id='notebook-config'></a>\")\n",
    "cell_log.collect(\"## Notebook Config\")\n",
    "# ------------ environment variable magic\n",
    "\n",
    "# Install a pip packages in the current Jupyter kernel\n",
    "# ------------ Python-dotenv\n",
    "cell_log.collect(\"* python-dotenv\")\n",
    "import sys\n",
    "!{sys.executable} -m pip install python-dotenv\n",
    "# ------------ data.world API \n",
    "cell_log.collect(\"* datadotworld\")\n",
    "!{sys.executable} -m pip install datadotworld[pandas]\n",
    "# ------------ py-github\n",
    "# cell_log.collect(\"* ipywidgets\")\n",
    "# !{sys.executable} -m pip install ipywidgets \n",
    "# !{sys.executable} -m jupyter nbextension enable --py widgetsnbextension\n",
    "if ENV_ERROR:\n",
    "    cell_log.collect(\"# Script Failure!!\")\n",
    "    cell_log.collect(\"# !!! Missing Environment Variables !!!\")\n",
    "    cell_log.collect(\"### see [Environment Variable Setup](#env-setup)\")\n",
    "    \n",
    "Markdown('''{}'''.format(cell_log.getMarkdown()))"
   ]
  },
  {
   "cell_type": "markdown",
   "metadata": {},
   "source": [
    "\n",
    "# Goals\n",
    "* merge drains from multiple communities across the watershed\n",
    "* Resolve dataset conflicts i.e., drain identifyer uniqueness, data type, column names, and value range.\n",
    "\n",
    "# Acquire the Data\n",
    "* get a csv or excel file from a community.\n",
    "\n",
    "# State of the Acquired-Dataset\n",
    "    * assume the acquired-dataset is a subset of all drains in the universe ;)\n",
    "    * assume record identifiers are not unique across communities \n",
    "    * assume the acquired-dataset's column names are not the same across communities \n",
    "    * assume the acquired-dataset's data types are not the same across communities\n",
    "    * assume the acquired-dataset's data-values ranges are not the same across communities\n",
    "\n",
    "# Load Acquired Data\n",
    "* see what breaks and fix it\n",
    "\n",
    "# Wrangle\n",
    "input: csv or excel from any source\n",
    "\n",
    "Clean\n",
    "* name columns properly\n",
    "* drop records with no facility id\n",
    "* remove characters from facility id\n",
    "* create dr_source via lookup from list of communities\n",
    "* create dr_asset_id = dr_source_id + dr_facility_id \n",
    "Condense\n",
    "* drop outliers (not in expected range)\n",
    "* drop duplicate records\n",
    "* drop unused columns\n",
    "output: csv of cleaned records from any source\n",
    "\n",
    "# Merge\n",
    "Merge clean-dataset with prod-dataset \n",
    "* add clean-dataset record when clean-dataset.dr_asset_id not in prod-data\n",
    "* update columns when clean-data column-value is not equal to prod-dataset column-value\n",
    "* doesn't handle deleted records  \n",
    "\n",
    "if clean-dataset.column-value is not in prod-dataset  \n",
    "\n",
    "# Where are we going?\n",
    "We want to replace the xxxx.csv in the github repo with the old and new records. \n",
    "* create new records\n",
    "* update old record\n",
    "\n",
    "\n"
   ]
  },
  {
   "cell_type": "code",
   "execution_count": 10,
   "metadata": {},
   "outputs": [
    {
     "name": "stdout",
     "output_type": "stream",
     "text": [
      "dw_dataset_id  None/grb-storm-drains\n",
      "{'app_name': 'adopt-a-drain',\n",
      " 'dw_dataset_id': 'None/grb-storm-drains',\n",
      " 'dw_desc': 'Storm Drains of the Grand River Basin, Michigan',\n",
      " 'dw_table': 'grb_drains-2019-08-017',\n",
      " 'dw_title': 'GRB Storm Drains',\n",
      " 'dw_url': 'https://api.data.world/v0/datasets/None/grb_drains-2019-08-017.csv',\n",
      " 'files': {'grb_drains-2019-08-017.csv': {'url': 'https://raw.githubusercontent.com/None/data.world/master/clean-data/adopt-a-drain/grb_drains-2019-08-017.csv'}},\n",
      " 'gh_url': 'https://raw.githubusercontent.com/None/data.world/master/clean-data/adopt-a-drain/grb_drains-2019-08-017.csv',\n",
      " 'license': 'Public Domain',\n",
      " 'owner_id': None,\n",
      " 'visibility': 'OPEN'}\n"
     ]
    },
    {
     "data": {
      "text/markdown": [],
      "text/plain": [
       "<IPython.core.display.Markdown object>"
      ]
     },
     "execution_count": 10,
     "metadata": {},
     "output_type": "execute_result"
    }
   ],
   "source": [
    "# import github\n",
    "import settings\n",
    "import helper\n",
    "cell_log = ProcessLogger() \n",
    "from datadotworld.client import _swagger\n",
    "from datadotworld.client.api import RestApiError\n",
    "import datadotworld as dw\n",
    "# open config file ... has last cleaned file name\n",
    "with open('maintainer-config.json') as f:\n",
    "    maintainer_data = json.load(f)\n",
    "\n",
    "LOCAL_CLEAN_NAME = maintainer_data['gh_file_name']\n",
    "\n",
    "# DW_USER = os.getenv(\"DW_USER\")\n",
    "DW_OWNER=os.getenv(\"DW_OWNER\")\n",
    "DW_TABLE_NAME=maintainer_data['dw_table_name']\n",
    "# DW_DB_URL = \"https://api.data.world/v0/datasets/%s/\".replace(\"%s\", DW_OWNER)\n",
    "DW_DB_URL = \"https://api.data.world/v0/datasets/{}/\".format(DW_OWNER)\n",
    "# GH_USER=os.getenv(\"GH_USER\")\n",
    "GH_OWNER=os.getenv(\"GH_OWNER\")\n",
    "GH_FILE_NAME=maintainer_data['gh_file_name']\n",
    "GH_URL_CLEAN = \"https://raw.githubusercontent.com/{}/data.world/master/clean-data/\".format(GH_OWNER)\n",
    "#               https://raw.githubusercontent.com/citizenlabsgr/data.world/master/clean-data/adopt-a-drain/grb_drains.csv\n",
    "\n",
    "\n",
    "#dw_dataset_id = DW_OWNER + \"/\" + maintainer_data['dw_title'].lower().replace('_','-').replace(' ','-')\n",
    "dw_dataset_id = '{}/{}'.format(DW_OWNER, maintainer_data['dw_title'].lower().replace('_','-').replace(' ','-'))\n",
    "print('dw_dataset_id ', dw_dataset_id)\n",
    "\n",
    "gh_csv_name = DW_TABLE_NAME\n",
    "gh_csv_name_ext = gh_csv_name + '.' + maintainer_data['gh_file_type']\n",
    "gh_csv_path_name = GH_URL_CLEAN + gh_csv_name_ext\n",
    "\n",
    "'''\n",
    "------------- configure source csv\n",
    "'''\n",
    "\n",
    "tbl = { \"owner_id\": DW_OWNER, \n",
    "        \"app_name\": helper.get_app_name(),\n",
    "         \"dw_title\": maintainer_data['dw_title'], \n",
    "         \"dw_desc\": maintainer_data['dw_desc'],\n",
    "         \"dw_table\": DW_TABLE_NAME,\n",
    "         \"dw_dataset_id\": dw_dataset_id,\n",
    "         \"dw_url\": DW_DB_URL + GH_FILE_NAME,\n",
    "         \"gh_url\": GH_URL_CLEAN + \"{}/{}\".format( helper.get_app_name(), GH_FILE_NAME), \n",
    "         \"visibility\": \"OPEN\", \n",
    "         \"license\": \"Public Domain\",\n",
    "         \"files\": {GH_FILE_NAME: {\"url\": GH_URL_CLEAN + \"{}/{}\".format( helper.get_app_name(), GH_FILE_NAME)}}\n",
    "      }\n",
    "      #       \"local_raw\": LOCAL_RAW_FOLDER + '/' + gh_csv_name_ext,\n",
    "      #       \"local_clean\": LOCAL_CLEAN_FOLDER + '/' + gh_csv_name_ext,\n",
    "      #     }\n",
    "pprint(tbl)\n",
    "# github.showState(cell_log)\n",
    "\n",
    "Markdown('''{}'''.format(cell_log.getMarkdown()))"
   ]
  },
  {
   "cell_type": "code",
   "execution_count": null,
   "metadata": {
    "collapsed": true
   },
   "outputs": [],
   "source": [
    "import interface\n",
    "# move data \n",
    "#   from github/citizenlabsgr/data.world\n",
    "#   to data.world/citizenlabs/\n",
    "cell_log.clear()\n",
    "\n",
    "if ENV_ERROR:\n",
    "    cell_log.collect(\"# Script Failure!!\")\n",
    "    cell_log.collect(\"# !!! Missing Environment Variables !!!\")\n",
    "    cell_log.collect(\"### see [Environment Variable Setup](#env-setup)\")\n",
    "else:\n",
    "    # interface.git_hub(df_source, tbl, cell_log)\n",
    "    interface.data_world(tbl, cell_log)\n",
    "    cell_log.collect(\"# OK - Done\") \n",
    "Markdown('''{}'''.format(cell_log.getMarkdown()))"
   ]
  },
  {
   "cell_type": "code",
   "execution_count": null,
   "metadata": {
    "collapsed": true
   },
   "outputs": [],
   "source": []
  }
 ],
 "metadata": {
  "kernelspec": {
   "display_name": "Python [default]",
   "language": "python",
   "name": "python3"
  },
  "language_info": {
   "codemirror_mode": {
    "name": "ipython",
    "version": 3
   },
   "file_extension": ".py",
   "mimetype": "text/x-python",
   "name": "python",
   "nbconvert_exporter": "python",
   "pygments_lexer": "ipython3",
   "version": "3.6.8"
  }
 },
 "nbformat": 4,
 "nbformat_minor": 2
}
